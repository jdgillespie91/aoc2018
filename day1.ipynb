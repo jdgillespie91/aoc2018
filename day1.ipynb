{
 "cells": [
  {
   "cell_type": "code",
   "execution_count": 36,
   "metadata": {},
   "outputs": [
    {
     "data": {
      "text/plain": [
       "516"
      ]
     },
     "execution_count": 36,
     "metadata": {},
     "output_type": "execute_result"
    }
   ],
   "source": [
    "# Read the data file\n",
    "with open('day1.txt') as f:\n",
    "    frequency_changes = [int(x) for x in f.read().split('\\n') if x]\n",
    "\n",
    "# Part One\n",
    "sum(frequency_changes)"
   ]
  },
  {
   "cell_type": "code",
   "execution_count": 39,
   "metadata": {},
   "outputs": [
    {
     "data": {
      "text/plain": [
       "71892"
      ]
     },
     "execution_count": 39,
     "metadata": {},
     "output_type": "execute_result"
    }
   ],
   "source": [
    "from itertools import repeat\n",
    "\n",
    "# Part Two\n",
    "seen_frequencies = set()\n",
    "frequency = 0\n",
    "\n",
    "# Iterate over frequency changes continuously.\n",
    "for changes in repeat(frequency_changes):\n",
    "    \n",
    "    # Iterate over frequency changes, storing the frequency and breaking if we see a repeat.\n",
    "    for frequency_change in changes:\n",
    "        frequency += frequency_change\n",
    "        \n",
    "        if frequency in seen_frequencies:\n",
    "            repeated_frequency = frequency\n",
    "            break\n",
    "            \n",
    "        seen_frequencies.add(frequency)\n",
    "    \n",
    "    # If we don't break from the inner loop, start again.\n",
    "    else:\n",
    "        continue\n",
    "    \n",
    "    # If we break from the inner loop, break from this one too.\n",
    "    break\n",
    "        \n",
    "repeated_frequency     "
   ]
  }
 ],
 "metadata": {
  "kernelspec": {
   "display_name": "Python 3",
   "language": "python",
   "name": "python3"
  },
  "language_info": {
   "codemirror_mode": {
    "name": "ipython",
    "version": 3
   },
   "file_extension": ".py",
   "mimetype": "text/x-python",
   "name": "python",
   "nbconvert_exporter": "python",
   "pygments_lexer": "ipython3",
   "version": "3.7.0"
  }
 },
 "nbformat": 4,
 "nbformat_minor": 2
}
